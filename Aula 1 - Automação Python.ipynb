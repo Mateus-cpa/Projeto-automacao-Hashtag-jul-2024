{
 "cells": [
  {
   "cell_type": "code",
   "execution_count": null,
   "metadata": {},
   "outputs": [],
   "source": [
    "# Passo 1 - Entrar no sistema da empresa: https://dlp.hashtagtreinamentos.com/python/intensivao/login\n",
    "\n",
    "# Passo 2 - Fazer o login\n",
    "\n",
    "# Passo 3 - Pegar os dados\n",
    "\n",
    "# Passo 4 - Cadastrar um produto\n",
    "\n",
    "# Passo 5 - Repetir o passo 4 até cadastrar todos os produtos\n",
    "\n"
   ]
  }
 ],
 "metadata": {
  "language_info": {
   "name": "python"
  }
 },
 "nbformat": 4,
 "nbformat_minor": 2
}
